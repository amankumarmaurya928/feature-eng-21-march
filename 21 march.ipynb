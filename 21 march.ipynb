{
 "cells": [
  {
   "cell_type": "code",
   "execution_count": 1,
   "id": "b34a9ab3-ad62-46ad-9e86-9b272e6b5ffa",
   "metadata": {},
   "outputs": [
    {
     "data": {
      "text/plain": [
       "\"You use ordinal encoding to preserve order of categorical data i.e. cold, warm, hot; low, medium, high.\\nYou use label encoding or one hot for categorical data, where there's no order in data i.e. dog, cat, whale. \\n Example:\\n     red is 1, green is 2, and blue is 3. This is called an ordinal encoding or an integer encoding and\\n     is easily reversible. Often, integer values starting at zero are used. For some variables, an ordinal encoding may be \\n     enough.\\n    \\n     and if we talk about degree or qualification of a person we will give rank it (but in the above case we can't rank it.)\\n     so, in this we use a label encoder.\\n\""
      ]
     },
     "execution_count": 1,
     "metadata": {},
     "output_type": "execute_result"
    }
   ],
   "source": [
    "# Q1\n",
    "'''You use ordinal encoding to preserve order of categorical data i.e. cold, warm, hot; low, medium, high.\n",
    "You use label encoding or one hot for categorical data, where there's no order in data i.e. dog, cat, whale. \n",
    " Example:\n",
    "     red is 1, green is 2, and blue is 3. This is called an ordinal encoding or an integer encoding and\n",
    "     is easily reversible. Often, integer values starting at zero are used. For some variables, an ordinal encoding may be \n",
    "     enough.\n",
    "    \n",
    "     and if we talk about degree or qualification of a person we will give rank it (but in the above case we can't rank it.)\n",
    "     so, in this we use a label encoder.\n",
    "'''"
   ]
  },
  {
   "cell_type": "code",
   "execution_count": 2,
   "id": "48ad5267-4873-47c3-935f-e86b5f381f63",
   "metadata": {},
   "outputs": [
    {
     "data": {
      "text/html": [
       "<div>\n",
       "<style scoped>\n",
       "    .dataframe tbody tr th:only-of-type {\n",
       "        vertical-align: middle;\n",
       "    }\n",
       "\n",
       "    .dataframe tbody tr th {\n",
       "        vertical-align: top;\n",
       "    }\n",
       "\n",
       "    .dataframe thead th {\n",
       "        text-align: right;\n",
       "    }\n",
       "</style>\n",
       "<table border=\"1\" class=\"dataframe\">\n",
       "  <thead>\n",
       "    <tr style=\"text-align: right;\">\n",
       "      <th></th>\n",
       "      <th>price</th>\n",
       "      <th>cloth_encoded</th>\n",
       "    </tr>\n",
       "  </thead>\n",
       "  <tbody>\n",
       "    <tr>\n",
       "      <th>0</th>\n",
       "      <td>500</td>\n",
       "      <td>700.0</td>\n",
       "    </tr>\n",
       "    <tr>\n",
       "      <th>1</th>\n",
       "      <td>450</td>\n",
       "      <td>600.0</td>\n",
       "    </tr>\n",
       "    <tr>\n",
       "      <th>2</th>\n",
       "      <td>490</td>\n",
       "      <td>745.0</td>\n",
       "    </tr>\n",
       "    <tr>\n",
       "      <th>3</th>\n",
       "      <td>700</td>\n",
       "      <td>700.0</td>\n",
       "    </tr>\n",
       "    <tr>\n",
       "      <th>4</th>\n",
       "      <td>900</td>\n",
       "      <td>700.0</td>\n",
       "    </tr>\n",
       "    <tr>\n",
       "      <th>5</th>\n",
       "      <td>750</td>\n",
       "      <td>600.0</td>\n",
       "    </tr>\n",
       "    <tr>\n",
       "      <th>6</th>\n",
       "      <td>1000</td>\n",
       "      <td>745.0</td>\n",
       "    </tr>\n",
       "  </tbody>\n",
       "</table>\n",
       "</div>"
      ],
      "text/plain": [
       "   price  cloth_encoded\n",
       "0    500          700.0\n",
       "1    450          600.0\n",
       "2    490          745.0\n",
       "3    700          700.0\n",
       "4    900          700.0\n",
       "5    750          600.0\n",
       "6   1000          745.0"
      ]
     },
     "execution_count": 2,
     "metadata": {},
     "output_type": "execute_result"
    }
   ],
   "source": [
    "# Q2\n",
    "'''Target Guided Ordinal Encoding:\n",
    "   It is a technique used to encode categorical variables based on their relationship with the target variable. This encoding\n",
    "   technique is useful when we have a categorical variable with a large number of unique categories, and we want to use this\n",
    "   variable as a feature in our machine learning model.\n",
    "    Example:'''\n",
    "import pandas as pd\n",
    "df = pd.DataFrame({'cloth':['jeans','shirt','pants','jaket','jeans','shirt','pants'],\n",
    "                  'price':[500,450,490,700,900,750,1000]})\n",
    "mean_price=df.groupby('cloth')['price'].mean().to_dict()\n",
    "df['cloth_encoded']=df['cloth'].map(mean_price)\n",
    "df[['price','cloth_encoded']]"
   ]
  },
  {
   "cell_type": "code",
   "execution_count": 3,
   "id": "140fb372-f70c-495c-81ae-2db74221481b",
   "metadata": {},
   "outputs": [
    {
     "data": {
      "text/plain": [
       "'Covariance is a measure of the relationship between two random variables and to what extent, they change together. Or we \\n   can say, in other words, it defines the changes between the two variables, such that change in one variable is equal to\\n   change in another variable.\\n   To calculate covariance, you can use the formula:\\n    Cov(X, Y) = Σ(Xi-µ)(Yj-v) / n.\\n    '"
      ]
     },
     "execution_count": 3,
     "metadata": {},
     "output_type": "execute_result"
    }
   ],
   "source": [
    "# Q3\n",
    "'''Covariance is a measure of the relationship between two random variables and to what extent, they change together. Or we \n",
    "   can say, in other words, it defines the changes between the two variables, such that change in one variable is equal to\n",
    "   change in another variable.\n",
    "   To calculate covariance, you can use the formula:\n",
    "    Cov(X, Y) = Σ(Xi-µ)(Yj-v) / n.\n",
    "    '''"
   ]
  },
  {
   "cell_type": "code",
   "execution_count": 13,
   "id": "227de12e-ed3f-45ff-9442-3b66a7eb0fc1",
   "metadata": {},
   "outputs": [
    {
     "name": "stderr",
     "output_type": "stream",
     "text": [
      "/opt/conda/lib/python3.10/site-packages/sklearn/preprocessing/_label.py:116: DataConversionWarning: A column-vector y was passed when a 1d array was expected. Please change the shape of y to (n_samples, ), for example using ravel().\n",
      "  y = column_or_1d(y, warn=True)\n",
      "/opt/conda/lib/python3.10/site-packages/sklearn/preprocessing/_label.py:116: DataConversionWarning: A column-vector y was passed when a 1d array was expected. Please change the shape of y to (n_samples, ), for example using ravel().\n",
      "  y = column_or_1d(y, warn=True)\n",
      "/opt/conda/lib/python3.10/site-packages/sklearn/preprocessing/_label.py:116: DataConversionWarning: A column-vector y was passed when a 1d array was expected. Please change the shape of y to (n_samples, ), for example using ravel().\n",
      "  y = column_or_1d(y, warn=True)\n"
     ]
    },
    {
     "data": {
      "text/plain": [
       "(array([2, 1, 0]), array([2, 1, 0]), array([2, 0, 1]))"
      ]
     },
     "execution_count": 13,
     "metadata": {},
     "output_type": "execute_result"
    }
   ],
   "source": [
    "# Q4\n",
    "import pandas as pd\n",
    "from sklearn.preprocessing import LabelEncoder\n",
    "lbl_encoder=LabelEncoder()\n",
    "df = pd.DataFrame({'Color':['red', 'green', 'blue'], 'Size':['small', 'medium', 'large'],\n",
    "                   'Material':['wood', 'metal', 'plastic']})\n",
    "lbl_encoder.fit_transform(df[['Color']]),lbl_encoder.fit_transform(df[['Size']]),lbl_encoder.fit_transform(df[['Material']])"
   ]
  },
  {
   "cell_type": "code",
   "execution_count": 19,
   "id": "0cbbcd4b-ff71-49c1-81e0-8d834a79ee7f",
   "metadata": {},
   "outputs": [
    {
     "name": "stdout",
     "output_type": "stream",
     "text": [
      "Covariance matrix of age: 8.3\n",
      "Covariance matrix of income: 122666666.66666666\n",
      "Covariance matrix of Education_level: 6.916666666666666\n"
     ]
    }
   ],
   "source": [
    "# Q5\n",
    "import numpy as np\n",
    " \n",
    "age = np.array([12,15,16,17,19,20])\n",
    "income = np.array([0,0,10000,15000,25000,24000])\n",
    "Education_level = np.array([6,10,11,12])\n",
    "print(\"Covariance matrix of age:\", np.cov(age))\n",
    "print(\"Covariance matrix of income:\", np.cov(income))\n",
    "print(\"Covariance matrix of Education_level:\", np.cov(Education_level))"
   ]
  },
  {
   "cell_type": "code",
   "execution_count": 24,
   "id": "8f6d21a4-eead-48ca-9e6b-f42fc196b89d",
   "metadata": {},
   "outputs": [
    {
     "data": {
      "text/html": [
       "<div>\n",
       "<style scoped>\n",
       "    .dataframe tbody tr th:only-of-type {\n",
       "        vertical-align: middle;\n",
       "    }\n",
       "\n",
       "    .dataframe tbody tr th {\n",
       "        vertical-align: top;\n",
       "    }\n",
       "\n",
       "    .dataframe thead th {\n",
       "        text-align: right;\n",
       "    }\n",
       "</style>\n",
       "<table border=\"1\" class=\"dataframe\">\n",
       "  <thead>\n",
       "    <tr style=\"text-align: right;\">\n",
       "      <th></th>\n",
       "      <th>gender_female</th>\n",
       "      <th>gender_male</th>\n",
       "    </tr>\n",
       "  </thead>\n",
       "  <tbody>\n",
       "    <tr>\n",
       "      <th>0</th>\n",
       "      <td>1.0</td>\n",
       "      <td>0.0</td>\n",
       "    </tr>\n",
       "    <tr>\n",
       "      <th>1</th>\n",
       "      <td>0.0</td>\n",
       "      <td>1.0</td>\n",
       "    </tr>\n",
       "  </tbody>\n",
       "</table>\n",
       "</div>"
      ],
      "text/plain": [
       "   gender_female  gender_male\n",
       "0            1.0          0.0\n",
       "1            0.0          1.0"
      ]
     },
     "execution_count": 24,
     "metadata": {},
     "output_type": "execute_result"
    }
   ],
   "source": [
    "# Q6\n",
    "'For gender:-- in this we use nominal encoding'\n",
    "import pandas as pd\n",
    "from sklearn.preprocessing import OneHotEncoder\n",
    "df = pd.DataFrame({\n",
    "    'gender': ['female', 'male']\n",
    "})\n",
    "encoder=OneHotEncoder()\n",
    "encoded=encoder.fit_transform(df[['gender']]).toarray()\n",
    "encoder_df=pd.DataFrame(encoded,columns=encoder.get_feature_names_out())\n",
    "encoder_df           "
   ]
  },
  {
   "cell_type": "code",
   "execution_count": 33,
   "id": "a401867b-dd4e-45a9-83d8-f529fff39123",
   "metadata": {},
   "outputs": [
    {
     "data": {
      "text/plain": [
       "array([[0.],\n",
       "       [1.],\n",
       "       [2.],\n",
       "       [3.]])"
      ]
     },
     "execution_count": 33,
     "metadata": {},
     "output_type": "execute_result"
    }
   ],
   "source": [
    "'For education level:--In this we use ordinal encoding because it need rank.'\n",
    "import pandas as pd\n",
    "from sklearn.preprocessing import OrdinalEncoder\n",
    "df = pd.DataFrame({\n",
    "    'Education_level' : ['High School','Bachelors','Masters','PhD']\n",
    "})\n",
    "encoder=OrdinalEncoder(categories=[['High School','Bachelors','Masters','PhD']])\n",
    "encoder.fit_transform(df[['Education_level']])"
   ]
  },
  {
   "cell_type": "code",
   "execution_count": 31,
   "id": "333ca012-7034-45ca-bffd-c6985f433d12",
   "metadata": {},
   "outputs": [
    {
     "data": {
      "text/plain": [
       "array([[0.],\n",
       "       [1.],\n",
       "       [2.]])"
      ]
     },
     "execution_count": 31,
     "metadata": {},
     "output_type": "execute_result"
    }
   ],
   "source": [
    "import pandas as pd\n",
    "from sklearn.preprocessing import OrdinalEncoder\n",
    "df = pd.DataFrame({\n",
    "    'Employment_status':['Unemployed','Part-Time','Full-Time']\n",
    "})\n",
    "encoder=OrdinalEncoder(categories=[['Unemployed','Part-Time','Full-Time']])\n",
    "encoder.fit_transform(df[['Employment_status']])"
   ]
  },
  {
   "cell_type": "code",
   "execution_count": 2,
   "id": "1b2857d8-7b10-42bd-a900-4646488d1b87",
   "metadata": {},
   "outputs": [
    {
     "data": {
      "text/plain": [
       "array([[0.],\n",
       "       [1.],\n",
       "       [2.]])"
      ]
     },
     "execution_count": 2,
     "metadata": {},
     "output_type": "execute_result"
    }
   ],
   "source": [
    "# Q7\n",
    "import pandas as pd\n",
    "from sklearn.preprocessing import OrdinalEncoder\n",
    "df = pd.DataFrame({\n",
    "              \"Weather_condition\":['Sunny','Cloudy','Rainy']\n",
    "})\n",
    "encoder=OrdinalEncoder(categories=[['Sunny','Cloudy','Rainy']])\n",
    "encoder.fit_transform(df[[\"Weather_condition\"]])"
   ]
  },
  {
   "cell_type": "code",
   "execution_count": 3,
   "id": "a04a5b3d-f466-4166-b82a-d6119b751c75",
   "metadata": {},
   "outputs": [
    {
     "data": {
      "text/plain": [
       "array([[0.],\n",
       "       [1.],\n",
       "       [2.]])"
      ]
     },
     "execution_count": 3,
     "metadata": {},
     "output_type": "execute_result"
    }
   ],
   "source": [
    "import pandas as pd\n",
    "from sklearn.preprocessing import OrdinalEncoder\n",
    "df = pd.DataFrame({\n",
    "              \"Weather_condition\":['Sunny','Cloudy','Rainy']\n",
    "})\n",
    "encoder=OrdinalEncoder(categories=[['Sunny','Cloudy','Rainy']])\n",
    "encoder.fit_transform(df[[\"Weather_condition\"]])"
   ]
  },
  {
   "cell_type": "code",
   "execution_count": null,
   "id": "83902659-031c-46ea-b5da-da3c4e6ef554",
   "metadata": {},
   "outputs": [],
   "source": [
    "import numpy as np\n",
    " \n",
    "temp = np.array([12,15,26,17,19,20])\n",
    "humidity = np.array([95,86,75,83,])\n",
    "Education_level = np.array([6,10,11,12])\n",
    "print(\"Covariance matrix of age:\", np.cov(age))\n",
    "print(\"Covariance matrix of income:\", np.cov(income))"
   ]
  }
 ],
 "metadata": {
  "kernelspec": {
   "display_name": "Python 3 (ipykernel)",
   "language": "python",
   "name": "python3"
  },
  "language_info": {
   "codemirror_mode": {
    "name": "ipython",
    "version": 3
   },
   "file_extension": ".py",
   "mimetype": "text/x-python",
   "name": "python",
   "nbconvert_exporter": "python",
   "pygments_lexer": "ipython3",
   "version": "3.10.8"
  }
 },
 "nbformat": 4,
 "nbformat_minor": 5
}
